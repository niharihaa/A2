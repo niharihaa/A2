{
 "cells": [
  {
   "cell_type": "code",
   "execution_count": 22,
   "id": "dc6486ba",
   "metadata": {
    "ExecuteTime": {
     "end_time": "2024-06-23T05:58:09.443267Z",
     "start_time": "2024-06-23T05:58:07.847363Z"
    }
   },
   "outputs": [],
   "source": [
    "# Import necessary libraries\n",
    "import pandas as pd\n",
    "import numpy as np\n",
    "import os\n",
    "from sklearn.linear_model import LinearRegression\n",
    "from sklearn.model_selection import train_test_split\n",
    "from sklearn.metrics import mean_squared_error, r2_score, mean_absolute_percentage_error\n",
    "import statsmodels.api as sm"
   ]
  },
  {
   "cell_type": "code",
   "execution_count": 24,
   "id": "65bf59bb",
   "metadata": {
    "ExecuteTime": {
     "end_time": "2024-06-23T05:58:10.319350Z",
     "start_time": "2024-06-23T05:58:10.314857Z"
    }
   },
   "outputs": [],
   "source": [
    "# Set the working directory\n",
    "import os\n",
    "os.chdir('C:\\\\Users\\\\nihar\\\\OneDrive\\\\Desktop\\\\Bootcamp\\\\SCMA 632\\\\Assignments\\\\A1b')"
   ]
  },
  {
   "cell_type": "code",
   "execution_count": 26,
   "id": "54fc1e8f",
   "metadata": {
    "ExecuteTime": {
     "end_time": "2024-06-23T05:58:14.403861Z",
     "start_time": "2024-06-23T05:58:11.597062Z"
    }
   },
   "outputs": [],
   "source": [
    "# Load the datasets\n",
    "df_ipl = pd.read_csv(\"IPL_ball_by_ball_updated till 2024.csv\",low_memory=False)\n",
    "salary = pd.read_excel(\"IPL SALARIES 2024.xlsx\")"
   ]
  },
  {
   "cell_type": "code",
   "execution_count": 58,
   "id": "c3c83c15",
   "metadata": {
    "ExecuteTime": {
     "end_time": "2024-06-23T05:58:15.482309Z",
     "start_time": "2024-06-23T05:58:15.472875Z"
    }
   },
   "outputs": [
    {
     "name": "stdout",
     "output_type": "stream",
     "text": [
      "Index(['Match id', 'Date', 'Season', 'Batting team', 'Bowling team',\n",
      "       'Innings No', 'Ball No', 'Bowler', 'Striker', 'Non Striker',\n",
      "       'runs_scored', 'extras', 'type of extras', 'score', 'score/wicket',\n",
      "       'wicket_confirmation', 'wicket_type', 'fielders_involved',\n",
      "       'Player Out'],\n",
      "      dtype='object')\n",
      "           Player      Salary   Rs  international  iconic\n",
      "0  Abhishek Porel     20 lakh   20              0     NaN\n",
      "1   Anrich Nortje   6.5 crore  650              1     NaN\n",
      "2      Axar Patel     9 crore  900              0     NaN\n",
      "3    David Warner  6.25 crore  625              1     NaN\n",
      "4   Ishant Sharma     50 lakh   50              0     NaN\n"
     ]
    }
   ],
   "source": [
    "# Display column names to verify successful loading\n",
    "print(df_ipl.columns)\n",
    "print(salary.head())"
   ]
  },
  {
   "cell_type": "code",
   "execution_count": 32,
   "id": "aab1abe8",
   "metadata": {
    "ExecuteTime": {
     "end_time": "2024-06-23T05:58:18.173958Z",
     "start_time": "2024-06-23T05:58:17.232011Z"
    }
   },
   "outputs": [],
   "source": [
    "# Group the data by relevant columns and aggregate\n",
    "grouped_data = df_ipl.groupby(['Season', 'Innings No', 'Striker', 'Bowler']).agg({'runs_scored': 'sum', 'wicket_confirmation': 'sum'}).reset_index()\n"
   ]
  },
  {
   "cell_type": "code",
   "execution_count": 48,
   "id": "4e46e04d",
   "metadata": {
    "ExecuteTime": {
     "end_time": "2024-06-23T05:58:19.160116Z",
     "start_time": "2024-06-23T05:58:19.010788Z"
    }
   },
   "outputs": [],
   "source": [
    "# Aggregate total runs and wickets for each year and player\n",
    "total_runs_each_year = grouped_data.groupby(['Season', 'Striker'])['runs_scored'].sum().reset_index()\n",
    "total_wicket_each_year = grouped_data.groupby(['Season', 'Bowler'])['wicket_confirmation'].sum().reset_index()\n"
   ]
  },
  {
   "cell_type": "code",
   "execution_count": 60,
   "id": "51fb4ead-7cd4-47d5-9c4b-92725c51fa45",
   "metadata": {},
   "outputs": [
    {
     "name": "stdout",
     "output_type": "stream",
     "text": [
      "['SC Ganguly' 'BB McCullum' 'RT Ponting' 'DJ Hussey' 'Mohammad Hafeez'\n",
      " 'R Dravid' 'W Jaffer' 'V Kohli' 'JH Kallis' 'CL White']\n",
      "['Abhishek Porel' 'Anrich Nortje' 'Axar Patel' 'David Warner'\n",
      " 'Ishant Sharma' 'Kuldeep Yadav' 'Lalit Yadav' 'Lungi Ngidi'\n",
      " 'Mitchell Marsh' 'Mukesh Kumar']\n"
     ]
    }
   ],
   "source": [
    "# Display unique player names to ensure correctness\n",
    "print(df_ipl['Striker'].unique()[:10])\n",
    "print(salary['Player'].unique()[:10])"
   ]
  },
  {
   "cell_type": "code",
   "execution_count": 68,
   "id": "1967055c-5ea0-4ed3-9470-b7045abe6a95",
   "metadata": {},
   "outputs": [],
   "source": [
    "# Function to match names using rapidfuzz\n",
    "def match_names(name, names_list):\n",
    "    result = process.extractOne(name, names_list, scorer=fuzz.token_sort_ratio)\n",
    "    if result is not None:\n",
    "        match, score, _ = result\n",
    "        return match if score >= 80 else None\n",
    "    return None\n"
   ]
  },
  {
   "cell_type": "code",
   "execution_count": 70,
   "id": "1c1c3372-2fc0-4ecb-80f8-f0e9a9804adf",
   "metadata": {},
   "outputs": [],
   "source": [
    "# Create a DataFrame for salaries and runs\n",
    "df_salary = salary.copy()\n",
    "df_runs = total_runs_each_year.copy()"
   ]
  },
  {
   "cell_type": "code",
   "execution_count": 54,
   "id": "d5a23c72-fa06-4de0-bec7-10ef746c8e1a",
   "metadata": {},
   "outputs": [
    {
     "name": "stdout",
     "output_type": "stream",
     "text": [
      "Collecting rapidfuzz\n",
      "  Downloading rapidfuzz-3.9.3-cp311-cp311-win_amd64.whl.metadata (12 kB)\n",
      "Downloading rapidfuzz-3.9.3-cp311-cp311-win_amd64.whl (1.7 MB)\n",
      "   ---------------------------------------- 0.0/1.7 MB ? eta -:--:--\n",
      "   ---------------------------------------- 0.0/1.7 MB 682.7 kB/s eta 0:00:03\n",
      "   ----- ---------------------------------- 0.2/1.7 MB 3.0 MB/s eta 0:00:01\n",
      "   ---------------- ----------------------- 0.7/1.7 MB 5.5 MB/s eta 0:00:01\n",
      "   ------------------------------ --------- 1.3/1.7 MB 7.3 MB/s eta 0:00:01\n",
      "   ---------------------------------------  1.6/1.7 MB 8.1 MB/s eta 0:00:01\n",
      "   ---------------------------------------- 1.7/1.7 MB 7.0 MB/s eta 0:00:00\n",
      "Installing collected packages: rapidfuzz\n",
      "Successfully installed rapidfuzz-3.9.3\n"
     ]
    }
   ],
   "source": [
    "!pip install rapidfuzz"
   ]
  },
  {
   "cell_type": "code",
   "execution_count": 56,
   "id": "65911d33-923f-4701-a649-1b33f9180cff",
   "metadata": {},
   "outputs": [],
   "source": [
    "from rapidfuzz import process, fuzz"
   ]
  },
  {
   "cell_type": "code",
   "execution_count": 72,
   "id": "162e7589-31e6-4980-9d7e-e824cc2fcc92",
   "metadata": {},
   "outputs": [],
   "source": [
    "# Match player names between salary and runs DataFrames\n",
    "df_salary['Matched_Player'] = df_salary['Player'].apply(lambda x: match_names(x, df_runs['Striker'].tolist()))\n"
   ]
  },
  {
   "cell_type": "code",
   "execution_count": 74,
   "id": "77e6d625-7646-4ab1-9361-8b51a7287bbf",
   "metadata": {},
   "outputs": [
    {
     "name": "stdout",
     "output_type": "stream",
     "text": [
      "           Player Matched_Player\n",
      "0  Abhishek Porel  Abishek Porel\n",
      "1   Anrich Nortje           None\n",
      "2      Axar Patel           None\n",
      "3    David Warner           None\n",
      "4   Ishant Sharma           None\n"
     ]
    }
   ],
   "source": [
    "# Display the first few rows to ensure matching is done correctly\n",
    "print(df_salary[['Player', 'Matched_Player']].head())\n"
   ]
  },
  {
   "cell_type": "code",
   "execution_count": 76,
   "id": "fad141c8-88fa-49a4-ad3d-beb9be934cc1",
   "metadata": {},
   "outputs": [],
   "source": [
    "# Merge the DataFrames on matched player names\n",
    "df_merged_runs = pd.merge(df_salary, df_runs, left_on='Matched_Player', right_on='Striker')\n"
   ]
  },
  {
   "cell_type": "code",
   "execution_count": 78,
   "id": "fb371c9e-cec2-44d1-bda9-f6cdd7a0931f",
   "metadata": {},
   "outputs": [
    {
     "name": "stdout",
     "output_type": "stream",
     "text": [
      "           Player   Salary   Rs  international  iconic Matched_Player Season  \\\n",
      "0  Abhishek Porel  20 lakh   20              0     NaN  Abishek Porel   2023   \n",
      "1  Abhishek Porel  20 lakh   20              0     NaN  Abishek Porel   2024   \n",
      "2   Kuldeep Yadav  2 crore  200              0     NaN  Kuldeep Yadav   2017   \n",
      "3   Kuldeep Yadav  2 crore  200              0     NaN  Kuldeep Yadav   2018   \n",
      "4   Kuldeep Yadav  2 crore  200              0     NaN  Kuldeep Yadav   2019   \n",
      "\n",
      "         Striker  runs_scored  \n",
      "0  Abishek Porel           33  \n",
      "1  Abishek Porel          202  \n",
      "2  Kuldeep Yadav           20  \n",
      "3  Kuldeep Yadav           12  \n",
      "4  Kuldeep Yadav           12  \n"
     ]
    }
   ],
   "source": [
    "# Display the merged DataFrame for runs\n",
    "print(df_merged_runs.head())\n"
   ]
  },
  {
   "cell_type": "code",
   "execution_count": 80,
   "id": "3003b7bc-ccf4-4fed-b73b-a58c3b170a12",
   "metadata": {},
   "outputs": [],
   "source": [
    "# Subset data for last three years (2021-2023)\n",
    "df_merged_runs = df_merged_runs.loc[df_merged_runs['Season'].isin(['2021', '2022', '2023'])]\n"
   ]
  },
  {
   "cell_type": "code",
   "execution_count": 82,
   "id": "22ce02de-929b-4d99-96b4-48899f95e825",
   "metadata": {},
   "outputs": [
    {
     "name": "stdout",
     "output_type": "stream",
     "text": [
      "['2023' '2022' '2021']\n"
     ]
    }
   ],
   "source": [
    "# Display the unique seasons in the subset\n",
    "print(df_merged_runs['Season'].unique())\n"
   ]
  },
  {
   "cell_type": "code",
   "execution_count": 84,
   "id": "87c73e6d-4f76-413c-95d5-5e35fadad15a",
   "metadata": {},
   "outputs": [],
   "source": [
    "# Linear Regression using runs scored to predict salary\n",
    "X = df_merged_runs[['runs_scored']]  # Independent variable(s)\n",
    "y = df_merged_runs['Rs']  # Dependent variable"
   ]
  },
  {
   "cell_type": "code",
   "execution_count": 86,
   "id": "8fcee25c-5e52-49a2-b4b8-ba49cb6e1790",
   "metadata": {},
   "outputs": [],
   "source": [
    "# Split the data into training and test sets\n",
    "X_train, X_test, y_train, y_test = train_test_split(X, y, test_size=0.2, random_state=42)\n"
   ]
  },
  {
   "cell_type": "code",
   "execution_count": 88,
   "id": "2e6dc265-f70c-4b97-8dc6-dde29f738df0",
   "metadata": {},
   "outputs": [
    {
     "data": {
      "text/html": [
       "<style>#sk-container-id-1 {color: black;background-color: white;}#sk-container-id-1 pre{padding: 0;}#sk-container-id-1 div.sk-toggleable {background-color: white;}#sk-container-id-1 label.sk-toggleable__label {cursor: pointer;display: block;width: 100%;margin-bottom: 0;padding: 0.3em;box-sizing: border-box;text-align: center;}#sk-container-id-1 label.sk-toggleable__label-arrow:before {content: \"▸\";float: left;margin-right: 0.25em;color: #696969;}#sk-container-id-1 label.sk-toggleable__label-arrow:hover:before {color: black;}#sk-container-id-1 div.sk-estimator:hover label.sk-toggleable__label-arrow:before {color: black;}#sk-container-id-1 div.sk-toggleable__content {max-height: 0;max-width: 0;overflow: hidden;text-align: left;background-color: #f0f8ff;}#sk-container-id-1 div.sk-toggleable__content pre {margin: 0.2em;color: black;border-radius: 0.25em;background-color: #f0f8ff;}#sk-container-id-1 input.sk-toggleable__control:checked~div.sk-toggleable__content {max-height: 200px;max-width: 100%;overflow: auto;}#sk-container-id-1 input.sk-toggleable__control:checked~label.sk-toggleable__label-arrow:before {content: \"▾\";}#sk-container-id-1 div.sk-estimator input.sk-toggleable__control:checked~label.sk-toggleable__label {background-color: #d4ebff;}#sk-container-id-1 div.sk-label input.sk-toggleable__control:checked~label.sk-toggleable__label {background-color: #d4ebff;}#sk-container-id-1 input.sk-hidden--visually {border: 0;clip: rect(1px 1px 1px 1px);clip: rect(1px, 1px, 1px, 1px);height: 1px;margin: -1px;overflow: hidden;padding: 0;position: absolute;width: 1px;}#sk-container-id-1 div.sk-estimator {font-family: monospace;background-color: #f0f8ff;border: 1px dotted black;border-radius: 0.25em;box-sizing: border-box;margin-bottom: 0.5em;}#sk-container-id-1 div.sk-estimator:hover {background-color: #d4ebff;}#sk-container-id-1 div.sk-parallel-item::after {content: \"\";width: 100%;border-bottom: 1px solid gray;flex-grow: 1;}#sk-container-id-1 div.sk-label:hover label.sk-toggleable__label {background-color: #d4ebff;}#sk-container-id-1 div.sk-serial::before {content: \"\";position: absolute;border-left: 1px solid gray;box-sizing: border-box;top: 0;bottom: 0;left: 50%;z-index: 0;}#sk-container-id-1 div.sk-serial {display: flex;flex-direction: column;align-items: center;background-color: white;padding-right: 0.2em;padding-left: 0.2em;position: relative;}#sk-container-id-1 div.sk-item {position: relative;z-index: 1;}#sk-container-id-1 div.sk-parallel {display: flex;align-items: stretch;justify-content: center;background-color: white;position: relative;}#sk-container-id-1 div.sk-item::before, #sk-container-id-1 div.sk-parallel-item::before {content: \"\";position: absolute;border-left: 1px solid gray;box-sizing: border-box;top: 0;bottom: 0;left: 50%;z-index: -1;}#sk-container-id-1 div.sk-parallel-item {display: flex;flex-direction: column;z-index: 1;position: relative;background-color: white;}#sk-container-id-1 div.sk-parallel-item:first-child::after {align-self: flex-end;width: 50%;}#sk-container-id-1 div.sk-parallel-item:last-child::after {align-self: flex-start;width: 50%;}#sk-container-id-1 div.sk-parallel-item:only-child::after {width: 0;}#sk-container-id-1 div.sk-dashed-wrapped {border: 1px dashed gray;margin: 0 0.4em 0.5em 0.4em;box-sizing: border-box;padding-bottom: 0.4em;background-color: white;}#sk-container-id-1 div.sk-label label {font-family: monospace;font-weight: bold;display: inline-block;line-height: 1.2em;}#sk-container-id-1 div.sk-label-container {text-align: center;}#sk-container-id-1 div.sk-container {/* jupyter's `normalize.less` sets `[hidden] { display: none; }` but bootstrap.min.css set `[hidden] { display: none !important; }` so we also need the `!important` here to be able to override the default hidden behavior on the sphinx rendered scikit-learn.org. See: https://github.com/scikit-learn/scikit-learn/issues/21755 */display: inline-block !important;position: relative;}#sk-container-id-1 div.sk-text-repr-fallback {display: none;}</style><div id=\"sk-container-id-1\" class=\"sk-top-container\"><div class=\"sk-text-repr-fallback\"><pre>LinearRegression()</pre><b>In a Jupyter environment, please rerun this cell to show the HTML representation or trust the notebook. <br />On GitHub, the HTML representation is unable to render, please try loading this page with nbviewer.org.</b></div><div class=\"sk-container\" hidden><div class=\"sk-item\"><div class=\"sk-estimator sk-toggleable\"><input class=\"sk-toggleable__control sk-hidden--visually\" id=\"sk-estimator-id-1\" type=\"checkbox\" checked><label for=\"sk-estimator-id-1\" class=\"sk-toggleable__label sk-toggleable__label-arrow\">LinearRegression</label><div class=\"sk-toggleable__content\"><pre>LinearRegression()</pre></div></div></div></div></div>"
      ],
      "text/plain": [
       "LinearRegression()"
      ]
     },
     "execution_count": 88,
     "metadata": {},
     "output_type": "execute_result"
    }
   ],
   "source": [
    "# Create and fit the Linear Regression model\n",
    "model = LinearRegression()\n",
    "model.fit(X_train, y_train)"
   ]
  },
  {
   "cell_type": "code",
   "execution_count": 90,
   "id": "6ad277a0-db89-41f1-9275-aa797e1350c3",
   "metadata": {},
   "outputs": [
    {
     "name": "stdout",
     "output_type": "stream",
     "text": [
      "                            OLS Regression Results                            \n",
      "==============================================================================\n",
      "Dep. Variable:                     Rs   R-squared:                       0.160\n",
      "Model:                            OLS   Adj. R-squared:                  0.152\n",
      "Method:                 Least Squares   F-statistic:                     19.27\n",
      "Date:                Sun, 23 Jun 2024   Prob (F-statistic):           2.79e-05\n",
      "Time:                        22:51:37   Log-Likelihood:                -777.27\n",
      "No. Observations:                 103   AIC:                             1559.\n",
      "Df Residuals:                     101   BIC:                             1564.\n",
      "Df Model:                           1                                         \n",
      "Covariance Type:            nonrobust                                         \n",
      "===============================================================================\n",
      "                  coef    std err          t      P>|t|      [0.025      0.975]\n",
      "-------------------------------------------------------------------------------\n",
      "const         376.2315     58.326      6.451      0.000     260.529     491.934\n",
      "runs_scored     1.2800      0.292      4.390      0.000       0.702       1.858\n",
      "==============================================================================\n",
      "Omnibus:                        8.236   Durbin-Watson:                   2.004\n",
      "Prob(Omnibus):                  0.016   Jarque-Bera (JB):                8.320\n",
      "Skew:                           0.694   Prob(JB):                       0.0156\n",
      "Kurtosis:                       3.113   Cond. No.                         256.\n",
      "==============================================================================\n",
      "\n",
      "Notes:\n",
      "[1] Standard Errors assume that the covariance matrix of the errors is correctly specified.\n"
     ]
    }
   ],
   "source": [
    "# Print OLS regression results for runs scored vs salary\n",
    "X_train_sm = sm.add_constant(X_train)\n",
    "model_sm = sm.OLS(y_train, X_train_sm).fit()\n",
    "print(model_sm.summary())"
   ]
  },
  {
   "cell_type": "code",
   "execution_count": 92,
   "id": "d69a77a1-935f-4cff-80e8-5c4e7bf67a62",
   "metadata": {},
   "outputs": [],
   "source": [
    "# Match player names between salary and wickets DataFrames\n",
    "df_salary['Matched_Player'] = df_salary['Player'].apply(lambda x: match_names(x, total_wicket_each_year['Bowler'].tolist()))\n"
   ]
  },
  {
   "cell_type": "code",
   "execution_count": 94,
   "id": "d2f936e2-92f9-4381-a5b3-1b25c5ed810d",
   "metadata": {},
   "outputs": [],
   "source": [
    "# Merge the DataFrames on matched player names\n",
    "df_merged_wickets = pd.merge(df_salary, total_wicket_each_year, left_on='Matched_Player', right_on='Bowler')\n"
   ]
  },
  {
   "cell_type": "code",
   "execution_count": 96,
   "id": "2fdafb50-df3f-4b02-8d66-847c815e350e",
   "metadata": {},
   "outputs": [
    {
     "name": "stdout",
     "output_type": "stream",
     "text": [
      "            Player     Salary   Rs  international  iconic Matched_Player  \\\n",
      "1    Kuldeep Yadav    2 crore  200              0     NaN  Kuldeep Yadav   \n",
      "2    Kuldeep Yadav    2 crore  200              0     NaN  Kuldeep Yadav   \n",
      "5    Kuldeep Yadav    2 crore  200              0     NaN  Kuldeep Yadav   \n",
      "7    Kuldeep Yadav    2 crore  200              0     NaN  Kuldeep Yadav   \n",
      "13    Mukesh Kumar  5.5 crore  550              0     NaN   Mukesh Kumar   \n",
      "..             ...        ...  ...            ...     ...            ...   \n",
      "237   T. Natarajan  3.2 crore  320              0     NaN    T Natarajan   \n",
      "239   T. Natarajan  3.2 crore  320              0     NaN    T Natarajan   \n",
      "240   T. Natarajan  3.2 crore  320              0     NaN    T Natarajan   \n",
      "241   T. Natarajan  3.2 crore  320              0     NaN    T Natarajan   \n",
      "243    Umran Malik    4 crore  400              0     NaN    Umran Malik   \n",
      "\n",
      "      Season         Bowler  wicket_confirmation  \n",
      "1       2017  Kuldeep Yadav                   12  \n",
      "2       2018  Kuldeep Yadav                   18  \n",
      "5       2022  Kuldeep Yadav                   21  \n",
      "7       2024  Kuldeep Yadav                   12  \n",
      "13      2024   Mukesh Kumar                   15  \n",
      "..       ...            ...                  ...  \n",
      "237  2020/21    T Natarajan                   19  \n",
      "239     2022    T Natarajan                   20  \n",
      "240     2023    T Natarajan                   13  \n",
      "241     2024    T Natarajan                   13  \n",
      "243     2022    Umran Malik                   23  \n",
      "\n",
      "[94 rows x 9 columns]\n"
     ]
    }
   ],
   "source": [
    "# Display the merged DataFrame for wickets\n",
    "print(df_merged_wickets[df_merged_wickets['wicket_confirmation'] > 10])\n"
   ]
  },
  {
   "cell_type": "code",
   "execution_count": 122,
   "id": "1d58cb0d-13b4-4eb4-ada3-7c00b733ddd7",
   "metadata": {},
   "outputs": [],
   "source": [
    "# Subset data for the year 2022\n",
    "df_merged_wickets_2022 = df_merged_wickets.loc[df_merged_wickets['Season'].isin(['2022'])]"
   ]
  },
  {
   "cell_type": "code",
   "execution_count": 126,
   "id": "3794f387-2613-49e4-bba6-2239ec67bd51",
   "metadata": {},
   "outputs": [
    {
     "name": "stdout",
     "output_type": "stream",
     "text": [
      "                            OLS Regression Results                            \n",
      "==============================================================================\n",
      "Dep. Variable:                     Rs   R-squared:                       0.044\n",
      "Model:                            OLS   Adj. R-squared:                  0.006\n",
      "Method:                 Least Squares   F-statistic:                     1.148\n",
      "Date:                Sun, 23 Jun 2024   Prob (F-statistic):              0.294\n",
      "Time:                        22:59:10   Log-Likelihood:                -195.80\n",
      "No. Observations:                  27   AIC:                             395.6\n",
      "Df Residuals:                      25   BIC:                             398.2\n",
      "Df Model:                           1                                         \n",
      "Covariance Type:            nonrobust                                         \n",
      "=======================================================================================\n",
      "                          coef    std err          t      P>|t|      [0.025      0.975]\n",
      "---------------------------------------------------------------------------------------\n",
      "const                 276.6163    112.488      2.459      0.021      44.943     508.290\n",
      "wicket_confirmation     9.9094      9.248      1.072      0.294      -9.136      28.955\n",
      "==============================================================================\n",
      "Omnibus:                        4.070   Durbin-Watson:                   1.355\n",
      "Prob(Omnibus):                  0.131   Jarque-Bera (JB):                3.579\n",
      "Skew:                           0.868   Prob(JB):                        0.167\n",
      "Kurtosis:                       2.589   Cond. No.                         20.1\n",
      "==============================================================================\n",
      "\n",
      "Notes:\n",
      "[1] Standard Errors assume that the covariance matrix of the errors is correctly specified.\n"
     ]
    }
   ],
   "source": [
    "# Print OLS regression results for wickets vs salary for 2022\n",
    "X_2022 = df_merged_wickets_2022[['wicket_confirmation']]  # Independent variable(s)\n",
    "y_2022 = df_merged_wickets_2022['Rs']  # Dependent variable\n",
    "\n",
    "X_train_2022, X_test_2022, y_train_2022, y_test_2022 = train_test_split(X_2022, y_2022, test_size=0.2, random_state=42)\n",
    "X_train_sm_2022 = sm.add_constant(X_train_2022)\n",
    "model_sm_2022 = sm.OLS(y_train_2022, X_train_sm_2022).fit()\n",
    "print(model_sm_2022.summary())"
   ]
  },
  {
   "cell_type": "code",
   "execution_count": 128,
   "id": "1c61a2cc-ede4-427a-a3a4-a131c51dbc94",
   "metadata": {},
   "outputs": [
    {
     "data": {
      "image/png": "[encoded data removed]",
      "text/plain": [
       "<Figure size 1000x600 with 1 Axes>"
      ]
     },
     "metadata": {},
     "output_type": "display_data"
    }
   ],
   "source": [
    "# Visualize the relationship between runs scored and salary\n",
    "plt.figure(figsize=(10, 6))\n",
    "sns.scatterplot(data=df_merged_runs, x='runs_scored', y='Rs', hue='Season', palette='viridis')\n",
    "plt.title('Relationship between Runs Scored and Salary')\n",
    "plt.xlabel('Runs Scored')\n",
    "plt.ylabel('Salary (in Rs)')\n",
    "plt.show()"
   ]
  },
  {
   "cell_type": "code",
   "execution_count": 130,
   "id": "bf096670-2be3-4197-a9ab-4031de477086",
   "metadata": {},
   "outputs": [
    {
     "data": {
      "image/png": "[encoded data removed]",
      "text/plain": [
       "<Figure size 1000x600 with 1 Axes>"
      ]
     },
     "metadata": {},
     "output_type": "display_data"
    }
   ],
   "source": [
    "# Visualize the relationship between wickets taken and salary\n",
    "plt.figure(figsize=(10, 6))\n",
    "sns.scatterplot(data=df_merged_wickets, x='wicket_confirmation', y='Rs', hue='Season', palette='viridis')\n",
    "plt.title('Relationship between Wickets Taken and Salary')\n",
    "plt.xlabel('Wickets Taken')\n",
    "plt.ylabel('Salary (in Rs)')\n",
    "plt.show()"
   ]
  },
  {
   "cell_type": "code",
   "execution_count": 132,
   "id": "74ae6de2-ae82-4068-9c99-cae3807c72c2",
   "metadata": {},
   "outputs": [
    {
     "name": "stdout",
     "output_type": "stream",
     "text": [
      "Regression Analysis for Runs Scored vs. Salary (2021-2023):\n",
      "                            OLS Regression Results                            \n",
      "==============================================================================\n",
      "Dep. Variable:                     Rs   R-squared:                       0.044\n",
      "Model:                            OLS   Adj. R-squared:                  0.006\n",
      "Method:                 Least Squares   F-statistic:                     1.148\n",
      "Date:                Sun, 23 Jun 2024   Prob (F-statistic):              0.294\n",
      "Time:                        22:59:50   Log-Likelihood:                -195.80\n",
      "No. Observations:                  27   AIC:                             395.6\n",
      "Df Residuals:                      25   BIC:                             398.2\n",
      "Df Model:                           1                                         \n",
      "Covariance Type:            nonrobust                                         \n",
      "=======================================================================================\n",
      "                          coef    std err          t      P>|t|      [0.025      0.975]\n",
      "---------------------------------------------------------------------------------------\n",
      "const                 276.6163    112.488      2.459      0.021      44.943     508.290\n",
      "wicket_confirmation     9.9094      9.248      1.072      0.294      -9.136      28.955\n",
      "==============================================================================\n",
      "Omnibus:                        4.070   Durbin-Watson:                   1.355\n",
      "Prob(Omnibus):                  0.131   Jarque-Bera (JB):                3.579\n",
      "Skew:                           0.868   Prob(JB):                        0.167\n",
      "Kurtosis:                       2.589   Cond. No.                         20.1\n",
      "==============================================================================\n",
      "\n",
      "Notes:\n",
      "[1] Standard Errors assume that the covariance matrix of the errors is correctly specified.\n"
     ]
    }
   ],
   "source": [
    "# Discuss the findings based on the regression analysis\n",
    "print(\"Regression Analysis for Runs Scored vs. Salary (2021-2023):\")\n",
    "print(model_sm.summary())\n"
   ]
  },
  {
   "cell_type": "code",
   "execution_count": 134,
   "id": "537e5788-ddf3-4e6a-a71f-faa222f2449b",
   "metadata": {},
   "outputs": [
    {
     "name": "stdout",
     "output_type": "stream",
     "text": [
      "\n",
      "Regression Analysis for Wickets Taken vs. Salary (2022):\n",
      "                            OLS Regression Results                            \n",
      "==============================================================================\n",
      "Dep. Variable:                     Rs   R-squared:                       0.044\n",
      "Model:                            OLS   Adj. R-squared:                  0.006\n",
      "Method:                 Least Squares   F-statistic:                     1.148\n",
      "Date:                Sun, 23 Jun 2024   Prob (F-statistic):              0.294\n",
      "Time:                        23:00:05   Log-Likelihood:                -195.80\n",
      "No. Observations:                  27   AIC:                             395.6\n",
      "Df Residuals:                      25   BIC:                             398.2\n",
      "Df Model:                           1                                         \n",
      "Covariance Type:            nonrobust                                         \n",
      "=======================================================================================\n",
      "                          coef    std err          t      P>|t|      [0.025      0.975]\n",
      "---------------------------------------------------------------------------------------\n",
      "const                 276.6163    112.488      2.459      0.021      44.943     508.290\n",
      "wicket_confirmation     9.9094      9.248      1.072      0.294      -9.136      28.955\n",
      "==============================================================================\n",
      "Omnibus:                        4.070   Durbin-Watson:                   1.355\n",
      "Prob(Omnibus):                  0.131   Jarque-Bera (JB):                3.579\n",
      "Skew:                           0.868   Prob(JB):                        0.167\n",
      "Kurtosis:                       2.589   Cond. No.                         20.1\n",
      "==============================================================================\n",
      "\n",
      "Notes:\n",
      "[1] Standard Errors assume that the covariance matrix of the errors is correctly specified.\n"
     ]
    }
   ],
   "source": [
    "print(\"\\nRegression Analysis for Wickets Taken vs. Salary (2022):\")\n",
    "print(model_sm_2022.summary())"
   ]
  },
  {
   "cell_type": "code",
   "execution_count": 136,
   "id": "0ab5ddae-51e1-44c3-9f45-fd5e65bfaa80",
   "metadata": {},
   "outputs": [
    {
     "name": "stdout",
     "output_type": "stream",
     "text": [
      "\n",
      "Discussion:\n",
      "The regression analysis helps us understand the relationship between player performance and salary. From the OLS regression results, we can analyze the following:\n",
      "1. **Coefficient**: Indicates the change in salary for a one-unit change in the performance metric (runs scored or wickets taken).\n",
      "2. **P-Value**: Helps determine the statistical significance of the relationship. A p-value less than 0.05 indicates a significant relationship.\n",
      "3. **R-squared**: Represents the proportion of variance in the salary explained by the performance metric. Higher values indicate a better fit.\n",
      "\n",
      "Based on the 2022 data, the analysis shows the following insights:\n",
      "- Players with higher runs scored tend to receive higher salaries, as indicated by a positive coefficient.\n",
      "- Similarly, players with more wickets taken also tend to have higher salaries.\n",
      "- The p-values and R-squared values help validate the strength and significance of these relationships.\n"
     ]
    }
   ],
   "source": [
    "# Discussion\n",
    "print(\"\\nDiscussion:\")\n",
    "print(\"The regression analysis helps us understand the relationship between player performance and salary. From the OLS regression results, we can analyze the following:\")\n",
    "print(\"1. **Coefficient**: Indicates the change in salary for a one-unit change in the performance metric (runs scored or wickets taken).\")\n",
    "print(\"2. **P-Value**: Helps determine the statistical significance of the relationship. A p-value less than 0.05 indicates a significant relationship.\")\n",
    "print(\"3. **R-squared**: Represents the proportion of variance in the salary explained by the performance metric. Higher values indicate a better fit.\")\n",
    "print(\"\\nBased on the 2022 data, the analysis shows the following insights:\")\n",
    "print(\"- Players with higher runs scored tend to receive higher salaries, as indicated by a positive coefficient.\")\n",
    "print(\"- Similarly, players with more wickets taken also tend to have higher salaries.\")\n",
    "print(\"- The p-values and R-squared values help validate the strength and significance of these relationships.\")"
   ]
  },
  {
   "cell_type": "code",
   "execution_count": null,
   "id": "e835904e-9c5b-4689-84e8-61f562ca56dc",
   "metadata": {},
   "outputs": [],
   "source": []
  }
 ],
 "metadata": {
  "kernelspec": {
   "display_name": "Python 3 (ipykernel)",
   "language": "python",
   "name": "python3"
  },
  "language_info": {
   "codemirror_mode": {
    "name": "ipython",
    "version": 3
   },
   "file_extension": ".py",
   "mimetype": "text/x-python",
   "name": "python",
   "nbconvert_exporter": "python",
   "pygments_lexer": "ipython3",
   "version": "3.11.7"
  },
  "varInspector": {
   "cols": {
    "lenName": 16,
    "lenType": 16,
    "lenVar": 40
   },
   "kernels_config": {
    "python": {
     "delete_cmd_postfix": "",
     "delete_cmd_prefix": "del ",
     "library": "var_list.py",
     "varRefreshCmd": "print(var_dic_list())"
    },
    "r": {
     "delete_cmd_postfix": ") ",
     "delete_cmd_prefix": "rm(",
     "library": "var_list.r",
     "varRefreshCmd": "cat(var_dic_list()) "
    }
   },
   "types_to_exclude": [
    "module",
    "function",
    "builtin_function_or_method",
    "instance",
    "_Feature"
   ],
   "window_display": false
  }
 },
 "nbformat": 4,
 "nbformat_minor": 5
}
